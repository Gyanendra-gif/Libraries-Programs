{
 "cells": [
  {
   "cell_type": "code",
   "execution_count": 1,
   "metadata": {},
   "outputs": [],
   "source": [
    "import numpy as np"
   ]
  },
  {
   "cell_type": "code",
   "execution_count": 2,
   "metadata": {},
   "outputs": [
    {
     "name": "stdout",
     "output_type": "stream",
     "text": [
      "[12.23, 13.32, 100, 36.32]\n"
     ]
    }
   ],
   "source": [
    "# 1-Python program to convert a list of numeric value into a one-dimensional Numpy Array\n",
    "sample_list = [12.23, 13.32, 100, 36.32]\n",
    "numpy_array = np.array(sample_list)\n",
    "print(sample_list)"
   ]
  },
  {
   "cell_type": "code",
   "execution_count": null,
   "metadata": {},
   "outputs": [],
   "source": [
    "# 2-Program of 3x3 matrix with values ranging from 2 to 10.\n"
   ]
  }
 ],
 "metadata": {
  "interpreter": {
   "hash": "462ae12aa29ce4e70c4abae1bee9521464252c0404e5ec0c0ada131b1d876249"
  },
  "kernelspec": {
   "display_name": "Python 3.10.1 64-bit",
   "language": "python",
   "name": "python3"
  },
  "language_info": {
   "codemirror_mode": {
    "name": "ipython",
    "version": 3
   },
   "file_extension": ".py",
   "mimetype": "text/x-python",
   "name": "python",
   "nbconvert_exporter": "python",
   "pygments_lexer": "ipython3",
   "version": "3.10.1"
  },
  "orig_nbformat": 4
 },
 "nbformat": 4,
 "nbformat_minor": 2
}
