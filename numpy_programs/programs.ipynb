{
 "cells": [
  {
   "cell_type": "code",
   "execution_count": 2,
   "metadata": {},
   "outputs": [
    {
     "data": {
      "text/plain": [
       "'\\n@Author: Gyanendra\\n@Date: 18/01/2021 \\n@Last Modified by: Gyanendra\\n@Last Modified time: 18/01/2021 \\n@Title : Numpy Python Problems\\n'"
      ]
     },
     "execution_count": 2,
     "metadata": {},
     "output_type": "execute_result"
    }
   ],
   "source": [
    "import numpy as np\n",
    "\"\"\"\n",
    "@Author: Gyanendra\n",
    "@Date: 18/01/2021 \n",
    "@Last Modified by: Gyanendra\n",
    "@Last Modified time: 18/01/2021 \n",
    "@Title : Numpy Python Problems\n",
    "\"\"\""
   ]
  },
  {
   "cell_type": "code",
   "execution_count": 2,
   "metadata": {},
   "outputs": [
    {
     "name": "stdout",
     "output_type": "stream",
     "text": [
      "[ 12.23  13.32 100.    36.32]\n"
     ]
    }
   ],
   "source": [
    "# 1-Python program to convert a list of numeric value into a one-dimensional Numpy Array\n",
    "\"\"\"\n",
    "Description:\n",
    "    Function is Used for convert a list of numeric value into a one-dimensional Numpy Array\n",
    "Parameter:\n",
    "    Sample List\n",
    "Return:\n",
    "    None\n",
    "\"\"\"\n",
    "sample_list = [12.23, 13.32, 100, 36.32]\n",
    "numpy_array = np.array(sample_list)\n",
    "print(numpy_array)"
   ]
  },
  {
   "cell_type": "code",
   "execution_count": 3,
   "metadata": {},
   "outputs": [
    {
     "name": "stdout",
     "output_type": "stream",
     "text": [
      "[[ 2  3  4]\n",
      " [ 5  6  7]\n",
      " [ 8  9 10]]\n"
     ]
    }
   ],
   "source": [
    "# 2-Program of 3x3 matrix with values ranging from 2 to 10.\n",
    "\"\"\"\n",
    "Description:\n",
    "    Function is Used for 3x3 matrix with values ranging from 2 to 10.\n",
    "Parameter:\n",
    "    Dimension Size\n",
    "Return:\n",
    "    Three Dimension\n",
    "\"\"\"\n",
    "three_dimension = np.reshape(np.arange(2,11),(3,3))\n",
    "print(three_dimension)"
   ]
  },
  {
   "cell_type": "code",
   "execution_count": 4,
   "metadata": {},
   "outputs": [
    {
     "name": "stdout",
     "output_type": "stream",
     "text": [
      "[ 0.  0.  0.  0.  0.  0. 11.  0.  0.  0.]\n"
     ]
    }
   ],
   "source": [
    "# 3-Python program to create a null vector of size 10 and update sixth value to 11.\n",
    "\"\"\"\n",
    "Description:\n",
    "    Function is Used for create a null vector of size 10 and update sixth value to 11.\n",
    "Parameter:\n",
    "    None\n",
    "Return:\n",
    "    None\n",
    "\"\"\"\n",
    "zero_array = np.zeros(10)\n",
    "zero_array[6] = 11\n",
    "print(zero_array)"
   ]
  },
  {
   "cell_type": "code",
   "execution_count": 5,
   "metadata": {},
   "outputs": [
    {
     "name": "stdout",
     "output_type": "stream",
     "text": [
      "[37 36 35 34 33 32 31 30 29 28 27 26 25 24 23 22 21 20 19 18 17 16 15 14\n",
      " 13 12]\n"
     ]
    }
   ],
   "source": [
    "# 4-Python program to reverse an array (first element becomes last).\n",
    "\"\"\"\n",
    "Description:\n",
    "    Function is Used for reverse an array\n",
    "Parameter:\n",
    "    Sample List\n",
    "Return:\n",
    "    First Element becomes last\n",
    "\"\"\"\n",
    "sample_list = [12, 13, 14, 15, 16, 17, 18, 19, 20, 21, 22, 23, 24, 25, 26, 27, 28, 29, 30, 31, 32, 33, 34, 35, 36, 37]\n",
    "numpy_array = np.array(sample_list)\n",
    "reversed_array = numpy_array[::-1]\n",
    "print(reversed_array)"
   ]
  },
  {
   "cell_type": "code",
   "execution_count": 6,
   "metadata": {},
   "outputs": [
    {
     "name": "stdout",
     "output_type": "stream",
     "text": [
      "[[1. 1. 1. 1. 1.]\n",
      " [1. 0. 0. 0. 1.]\n",
      " [1. 0. 0. 0. 1.]\n",
      " [1. 0. 0. 0. 1.]\n",
      " [1. 1. 1. 1. 1.]]\n"
     ]
    }
   ],
   "source": [
    "# 5-Python program to create a 2d array with 1 on the border and 0 inside.\n",
    "\"\"\"\n",
    "Description:\n",
    "    Function is Used for create a 2d array with 1 on the border and 0 inside\n",
    "Parameter:\n",
    "    Sample Array\n",
    "Return:\n",
    "    None\n",
    "\"\"\"\n",
    "one_array = np.ones(25)\n",
    "new_one_array = one_array.reshape(5,5)\n",
    "new_one_array[1:4,1:4]=0\n",
    "print(new_one_array)"
   ]
  },
  {
   "cell_type": "code",
   "execution_count": 7,
   "metadata": {},
   "outputs": [
    {
     "name": "stdout",
     "output_type": "stream",
     "text": [
      "[[0. 0. 0. 0. 0.]\n",
      " [0. 1. 1. 1. 0.]\n",
      " [0. 1. 1. 1. 0.]\n",
      " [0. 1. 1. 1. 0.]\n",
      " [0. 0. 0. 0. 0.]]\n"
     ]
    }
   ],
   "source": [
    "# 6-Python program to add a border (filled with 0's) around an existing array.\n",
    "\"\"\"\n",
    "Description:\n",
    "    Function is Used to add a border (filled with 0's) around an existing array\n",
    "Parameter:\n",
    "    Sample Array\n",
    "Return:\n",
    "    Required Array\n",
    "\"\"\"\n",
    "one_arr = np.ones((3,3))\n",
    "one_arr = np.pad(one_arr, pad_width=1, mode='constant', constant_values=0)\n",
    "print(one_arr)"
   ]
  },
  {
   "cell_type": "code",
   "execution_count": 8,
   "metadata": {},
   "outputs": [
    {
     "name": "stdout",
     "output_type": "stream",
     "text": [
      "[[0. 1. 0. 1. 0. 1. 0. 1.]\n",
      " [1. 0. 1. 0. 1. 0. 1. 0.]\n",
      " [0. 1. 0. 1. 0. 1. 0. 1.]\n",
      " [1. 0. 1. 0. 1. 0. 1. 0.]\n",
      " [0. 1. 0. 1. 0. 1. 0. 1.]\n",
      " [1. 0. 1. 0. 1. 0. 1. 0.]\n",
      " [0. 1. 0. 1. 0. 1. 0. 1.]\n",
      " [1. 0. 1. 0. 1. 0. 1. 0.]]\n"
     ]
    }
   ],
   "source": [
    "# 7-Python program to create a 8eight_array8 matrieight_array and fill it with a checkerboard pattern.\n",
    "\"\"\"\n",
    "Description:\n",
    "    Function is Used to create a 8eight_array8 matrieight_array and fill it with a checkerboard pattern.\n",
    "Parameter:\n",
    "    Sample Array\n",
    "Return:\n",
    "    Required Array\n",
    "\"\"\"\n",
    "eight_array = np.zeros((8,8))\n",
    "eight_array[1::2,::2] = 1\n",
    "eight_array[::2,1::2] = 1\n",
    "print(eight_array)"
   ]
  },
  {
   "cell_type": "code",
   "execution_count": 9,
   "metadata": {},
   "outputs": [
    {
     "name": "stdout",
     "output_type": "stream",
     "text": [
      "[1 2 3 4 5 6 7 8]\n",
      "[1 2 3 4]\n"
     ]
    }
   ],
   "source": [
    "# 8-Python program to convert a list and tuple into arrays.\n",
    "\"\"\"\n",
    "Description:\n",
    "    Function is Used to convert a list and tuple into arrays.\n",
    "Parameter:\n",
    "    Sample List and Sample Tuple\n",
    "Return:\n",
    "    Required Array's\n",
    "\"\"\"\n",
    "sample_list = [1,2,3,4,5,6,7,8]\n",
    "sample_list = np.array(sample_list)\n",
    "print(sample_list)\n",
    "\n",
    "sample_tuple = (1,2,3,4)\n",
    "print(np.array(sample_tuple))"
   ]
  },
  {
   "cell_type": "code",
   "execution_count": 10,
   "metadata": {},
   "outputs": [
    {
     "data": {
      "text/plain": [
       "array([10, 20, 30, 40, 50, 60, 70, 80, 90])"
      ]
     },
     "execution_count": 10,
     "metadata": {},
     "output_type": "execute_result"
    }
   ],
   "source": [
    "# 9-Python program to append values to the end of an array.\n",
    "\"\"\"\n",
    "Description:\n",
    "    Function is Used to append values to the end of an array.\n",
    "Parameter:\n",
    "    Sample Array\n",
    "Return:\n",
    "    Required Array\n",
    "\"\"\"\n",
    "appended_array = np.array([10, 20, 30])\n",
    "np.append(appended_array, (40,50,60,70,80,90))\n"
   ]
  },
  {
   "cell_type": "code",
   "execution_count": 11,
   "metadata": {},
   "outputs": [
    {
     "name": "stdout",
     "output_type": "stream",
     "text": [
      "Real Part of Equ. [1.         0.70710678]\n",
      "Imaginary Part of Equ. [0.         0.70710678]\n"
     ]
    }
   ],
   "source": [
    "# 10-a Python program to find the real and imaginary parts of an array of complex numbers.\n",
    "\"\"\"\n",
    "Description:\n",
    "    Function is Used to find the real and imaginary parts of an array of complex numbers.\n",
    "Parameter:\n",
    "    Sample Array\n",
    "Return:\n",
    "    Required Array\n",
    "\"\"\"\n",
    "equat = np.array([ 1.00000000+0.j,0.70710678+0.70710678j])\n",
    "real = np.array([])\n",
    "imaginary = np.array([])\n",
    "\n",
    "print(\"Real Part of Equ.\", equat.real)\n",
    "print(\"Imaginary Part of Equ.\", equat.imag)"
   ]
  },
  {
   "cell_type": "code",
   "execution_count": 12,
   "metadata": {},
   "outputs": [
    {
     "name": "stdout",
     "output_type": "stream",
     "text": [
      "Items of an array:  7\n",
      "Length of one array element in bytes:  4\n",
      "Total bytes consumed by the elements:  28\n"
     ]
    }
   ],
   "source": [
    "# 11-Python program to find the number of elements of an array, length of one \n",
    "# array element in bytes and total bytes consumed by the elements.\n",
    "\"\"\"\n",
    "Description:\n",
    "    Function is Used to find the the number of elements of an array, length of one \n",
    "    array element in bytes and total bytes consumed by the elements.\n",
    "Parameter:\n",
    "    Sample Array\n",
    "Return:\n",
    "    Required Size\n",
    "\"\"\"\n",
    "number = np.array([1,2,3,4,5,6,100])\n",
    "print(\"Items of an array: \", number.size)\n",
    "print(\"Length of one array element in bytes: \", number.itemsize)\n",
    "print(\"Total bytes consumed by the elements: \", number.nbytes)"
   ]
  },
  {
   "cell_type": "code",
   "execution_count": 13,
   "metadata": {},
   "outputs": [
    {
     "name": "stdout",
     "output_type": "stream",
     "text": [
      "[10 40]\n"
     ]
    }
   ],
   "source": [
    "# 12-Python program to find common values between two arrays. \n",
    "\"\"\"\n",
    "Description:\n",
    "    Function is Used to find to find common values between two arrays.\n",
    "Parameter:\n",
    "    Sample Array\n",
    "Return:\n",
    "    Required Array\n",
    "\"\"\"\n",
    "array_one= np.array([0, 10, 20, 40, 60])\n",
    "array_two= np.array([10, 30, 40])\n",
    "\n",
    "print(np.intersect1d(array_one,array_two))"
   ]
  },
  {
   "cell_type": "code",
   "execution_count": 14,
   "metadata": {},
   "outputs": [
    {
     "name": "stdout",
     "output_type": "stream",
     "text": [
      "[ 0 20 60 80]\n"
     ]
    }
   ],
   "source": [
    "# 13-Write a Python program to find the set difference of two arrays. The set difference\n",
    "# will return the sorted, unique values in array1 that are not in array2.\n",
    "\"\"\"\n",
    "Description:\n",
    "    Function is Used to find to find find the set difference of two arrays.\n",
    "Parameter:\n",
    "    Sample Array\n",
    "Return:\n",
    "    Required Array\n",
    "\"\"\"\n",
    "array_one= np.array([ 0, 10, 20, 40, 60, 80])\n",
    "array_two= np.array([10, 30, 40, 50, 70, 90])\n",
    "print(np.setdiff1d(array_one,array_two))"
   ]
  },
  {
   "cell_type": "code",
   "execution_count": 15,
   "metadata": {},
   "outputs": [
    {
     "name": "stdout",
     "output_type": "stream",
     "text": [
      "[ 0 20 30 50 60 70 80]\n"
     ]
    }
   ],
   "source": [
    "# 14-Python program to find the set exclusive-or of two arrays. Set exclusive-or\n",
    "# will return the sorted, unique values that are in only one (not both) of the input arrays.\n",
    "\"\"\"\n",
    "Description:\n",
    "    Function is Used to the set exclusive-or of two arrays.\n",
    "Parameter:\n",
    "    Sample Array\n",
    "Return:\n",
    "    Required Array\n",
    "\"\"\"\n",
    "array_one= np.array([ 0, 10, 20, 40, 60, 80])\n",
    "array_two= np.array([10, 30, 40, 50, 70])\n",
    "\n",
    "print(np.setxor1d(array_one,array_two))"
   ]
  },
  {
   "cell_type": "code",
   "execution_count": 3,
   "metadata": {},
   "outputs": [
    {
     "name": "stdout",
     "output_type": "stream",
     "text": [
      "[False False]\n",
      "[False False]\n",
      "[ True  True]\n",
      "[ True  True]\n"
     ]
    }
   ],
   "source": [
    "# 15-Python program compare two arrays using numpy.\n",
    "\"\"\"\n",
    "Description:\n",
    "    Function is Used to compare two arrays using numpy.\n",
    "Parameter:\n",
    "    Sample Array\n",
    "Return:\n",
    "    Required Array\n",
    "\"\"\"\n",
    "array_one = np.array([1, 2])\n",
    "array_two = np.array([4, 5])\n",
    "\n",
    "print(np.greater(array_one, array_two))\n",
    "print(np.greater_equal(array_one, array_two))\n",
    "print(np.less(array_one, array_two))\n",
    "print(np.less_equal(array_one, array_two))"
   ]
  },
  {
   "cell_type": "code",
   "execution_count": 4,
   "metadata": {},
   "outputs": [
    {
     "name": "stdout",
     "output_type": "stream",
     "text": [
      "[10 20 30 20 40 50]\n"
     ]
    }
   ],
   "source": [
    "# 16-Python program to create a contiguous flattened array.\n",
    "\"\"\"\n",
    "Description:\n",
    "    Function is Used to a contiguous flattened array.\n",
    "Parameter:\n",
    "    Sample Array\n",
    "Return:\n",
    "    Required Array\n",
    "\"\"\"\n",
    "array_one = np.array([[10, 20, 30], [20, 40, 50]])\n",
    "converted_array = np.ravel(array_one)\n",
    "print(converted_array)"
   ]
  },
  {
   "cell_type": "code",
   "execution_count": 6,
   "metadata": {},
   "outputs": [
    {
     "name": "stdout",
     "output_type": "stream",
     "text": [
      "int32\n",
      "float64\n"
     ]
    }
   ],
   "source": [
    "# 17-Python program to change the data type of an array.\n",
    "\"\"\"\n",
    "Description:\n",
    "    Function is Used to change the data type of an array.\n",
    "Parameter:\n",
    "    Sample Array\n",
    "Return:\n",
    "    Required Array\n",
    "\"\"\"\n",
    "my_array= np.array([ 0, 10, 20, 40, 60, 80])\n",
    "print(my_array.dtype)\n",
    "created_array = my_array.astype(float)\n",
    "print(created_array.dtype)"
   ]
  },
  {
   "cell_type": "code",
   "execution_count": 7,
   "metadata": {},
   "outputs": [
    {
     "name": "stdout",
     "output_type": "stream",
     "text": [
      "[[1. 0. 0.]\n",
      " [0. 1. 0.]\n",
      " [0. 0. 1.]]\n"
     ]
    }
   ],
   "source": [
    "# 18-Python program to create a 3-D array with ones on a diagonal and zeros elsewhere.\n",
    "\"\"\"\n",
    "Description:\n",
    "    Function is Used to create a 3-D array with ones on a diagonal and zeros elsewhere.\n",
    "Parameter:\n",
    "    Sample Array\n",
    "Return:\n",
    "    Required Array\n",
    "\"\"\"\n",
    "array = np.eye(3)\n",
    "print(array)"
   ]
  },
  {
   "cell_type": "code",
   "execution_count": 13,
   "metadata": {},
   "outputs": [
    {
     "name": "stdout",
     "output_type": "stream",
     "text": [
      "[[1. 1. 1.]\n",
      " [1. 1. 1.]\n",
      " [1. 1. 1.]]\n"
     ]
    }
   ],
   "source": [
    "# 19-Python program to create an array which looks like below array.\n",
    "\"\"\"\n",
    "Description:\n",
    "    Function is Used to create an array which looks like below array.\n",
    "Parameter:\n",
    "    Sample Array\n",
    "Return:\n",
    "    Required Array\n",
    "\"\"\"\n",
    "array = np.tri(3, 3,2)\n",
    "print(array)"
   ]
  },
  {
   "cell_type": "code",
   "execution_count": 18,
   "metadata": {},
   "outputs": [
    {
     "name": "stdout",
     "output_type": "stream",
     "text": [
      "[[ 0  1  3  0  2  4]\n",
      " [ 5  7  9  6  8 10]]\n"
     ]
    }
   ],
   "source": [
    "# 20-Python program to concatenate two 2-dimensional arrays.\n",
    "\"\"\"\n",
    "Description:\n",
    "    Function is Used to concatenate two 2-dimensional arrays.\n",
    "Parameter:\n",
    "    Sample Array\n",
    "Return:\n",
    "    Required Array\n",
    "\"\"\"\n",
    "array_one = np.array([[0, 1, 3], [5, 7, 9]])\n",
    "array_two = np.array([[0, 2, 4], [6, 8, 10]])\n",
    "array_three = np.concatenate((array_one, array_two), 1)\n",
    "print(array_three)"
   ]
  },
  {
   "cell_type": "code",
   "execution_count": 21,
   "metadata": {},
   "outputs": [],
   "source": [
    "# 21-program to make an array immutable (read-only).\n",
    "\"\"\"\n",
    "Description:\n",
    "    Function is Used to make an array immutable (read-only)\n",
    "Parameter:\n",
    "    Sample Array\n",
    "Return:\n",
    "    Required Array\n",
    "\"\"\"\n",
    "array_zero = np.zeros(10)\n",
    "array_zero.flags.writeable = False\n",
    "# array_zero[0] = 1"
   ]
  },
  {
   "cell_type": "code",
   "execution_count": 22,
   "metadata": {},
   "outputs": [
    {
     "name": "stdout",
     "output_type": "stream",
     "text": [
      "[[ 3  6  9 12]\n",
      " [15 18 21 24]\n",
      " [ 3  6  9 12]]\n"
     ]
    }
   ],
   "source": [
    "# 22-Python program to create an array of (3, 4) shape, multiply every element\n",
    "# value by 3 and display the new array.\n",
    "\"\"\"\n",
    "Description:\n",
    "    Function is Used to to create an array of (3, 4) shape, multiply every element\n",
    "    value by 3 and display the new array.\n",
    "Parameter:\n",
    "    Sample Array\n",
    "Return:\n",
    "    Required Array\n",
    "\"\"\"\n",
    "array = np.array([[1,2,3,4],[5,6,7,8],[1,2,3,4]])\n",
    "print(array*3)"
   ]
  },
  {
   "cell_type": "code",
   "execution_count": 23,
   "metadata": {},
   "outputs": [
    {
     "name": "stdout",
     "output_type": "stream",
     "text": [
      "<class 'numpy.ndarray'>\n",
      "<class 'list'>\n"
     ]
    }
   ],
   "source": [
    "# 23-program to convert a NumPy array into Python list structure.\n",
    "\"\"\"\n",
    "Description:\n",
    "    Function is Used to convert a NumPy array into Python list structure\n",
    "Parameter:\n",
    "    Sample Array\n",
    "Return:\n",
    "    Required Array\n",
    "\"\"\"\n",
    "array = np.arange(10)\n",
    "print(type(array))\n",
    "new_arr = array.tolist()\n",
    "print(type(new_arr))"
   ]
  },
  {
   "cell_type": "code",
   "execution_count": 24,
   "metadata": {},
   "outputs": [
    {
     "name": "stdout",
     "output_type": "stream",
     "text": [
      "[0.262 0.528 0.572 0.593 0.783 0.697 0.354 0.995 0.069 0.547]\n"
     ]
    }
   ],
   "source": [
    "# 24-Python program to convert a NumPy array into Python list structure.\n",
    "\"\"\"\n",
    "Description:\n",
    "    Function is Used to convert a NumPy array into Python list structure\n",
    "Parameter:\n",
    "    Sample Array\n",
    "Return:\n",
    "    Required Array\n",
    "\"\"\"\n",
    "sample_array = np.array([ 0.26153123, 0.52760141, 0.5718299, 0.5927067, 0.7831874, 0.69746349,0.35399976, 0.99469633, 0.0694458, 0.54711478])\n",
    "np.set_printoptions(precision=3)\n",
    "print(sample_array)"
   ]
  },
  {
   "cell_type": "code",
   "execution_count": 26,
   "metadata": {},
   "outputs": [
    {
     "name": "stdout",
     "output_type": "stream",
     "text": [
      "[   0.      1.6  1200.      0.23]\n"
     ]
    }
   ],
   "source": [
    "# 25-Python program to suppresses the use of scientific notation for small\n",
    "# numbers in numpy array.\n",
    "\"\"\"\n",
    "Description:\n",
    "    Function is Used to suppresses the use of scientific notation for small\n",
    "    numbers in numpy array\n",
    "Parameter:\n",
    "    Sample Array\n",
    "Return:\n",
    "    Required Array\n",
    "\"\"\"\n",
    "sample_array = np.array([ 1.60000000e-10, 1.60000000e+00, 1.20000000e+03, 2.35000000e-01])\n",
    "np.set_printoptions(precision=2, suppress=True)\n",
    "print(sample_array)"
   ]
  },
  {
   "cell_type": "code",
   "execution_count": 25,
   "metadata": {},
   "outputs": [
    {
     "name": "stdout",
     "output_type": "stream",
     "text": [
      "[[ 10  20  30 100]\n",
      " [ 40  50  60 200]]\n"
     ]
    }
   ],
   "source": [
    "# 26-Python program to how to add an extra column to an numpy array.\n",
    "\"\"\"\n",
    "Description:\n",
    "    Function is Used to add an extra column to an numpy array.\n",
    "Parameter:\n",
    "    Sample Array\n",
    "Return:\n",
    "    Required Array\n",
    "\"\"\"\n",
    "sample_array = np.array([[ 10, 20, 30],[ 40, 50, 60]])\n",
    "resulted_array = np.array([[100],[200]])\n",
    "\n",
    "print(np.append(sample_array,resulted_array,axis=1))"
   ]
  },
  {
   "cell_type": "code",
   "execution_count": 28,
   "metadata": {},
   "outputs": [
    {
     "name": "stdout",
     "output_type": "stream",
     "text": [
      "Here is the Updated Array:  [1 3 5 7 8 9]\n"
     ]
    }
   ],
   "source": [
    "# 27-Python program to remove specific elements in a numpy array\n",
    "\"\"\"\n",
    "Description:\n",
    "    Function is Used to remove specific elements in a numpy array\n",
    "Parameter:\n",
    "    Sample Array\n",
    "Return:\n",
    "    Required Array\n",
    "\"\"\"\n",
    "sample_array = np.array([1,2,3,4,5,6,7,8,9])\n",
    "resulted_array = np.delete(sample_array,[3,1,5])\n",
    "print('Here is the Updated Array: ', resulted_array)\n"
   ]
  }
 ],
 "metadata": {
  "interpreter": {
   "hash": "462ae12aa29ce4e70c4abae1bee9521464252c0404e5ec0c0ada131b1d876249"
  },
  "kernelspec": {
   "display_name": "Python 3.10.1 64-bit",
   "language": "python",
   "name": "python3"
  },
  "language_info": {
   "codemirror_mode": {
    "name": "ipython",
    "version": 3
   },
   "file_extension": ".py",
   "mimetype": "text/x-python",
   "name": "python",
   "nbconvert_exporter": "python",
   "pygments_lexer": "ipython3",
   "version": "3.10.1"
  },
  "orig_nbformat": 4
 },
 "nbformat": 4,
 "nbformat_minor": 2
}
