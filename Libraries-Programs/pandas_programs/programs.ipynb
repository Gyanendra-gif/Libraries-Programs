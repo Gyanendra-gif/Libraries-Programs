{
 "cells": [
  {
   "cell_type": "code",
   "execution_count": 3,
   "metadata": {},
   "outputs": [
    {
     "data": {
      "text/plain": [
       "'\\n@Author: Gyanendra\\n@Date: 19/01/2021 \\n@Last Modified by: Gyanendra\\n@Last Modified time: 19/01/2021 \\n@Title : Pandas Python Problems\\n'"
      ]
     },
     "execution_count": 3,
     "metadata": {},
     "output_type": "execute_result"
    }
   ],
   "source": [
    "import numpy as np\n",
    "import pandas as pd\n",
    "\"\"\"\n",
    "@Author: Gyanendra\n",
    "@Date: 19/01/2021 \n",
    "@Last Modified by: Gyanendra\n",
    "@Last Modified time: 19/01/2021 \n",
    "@Title : Pandas Python Problems\n",
    "\"\"\""
   ]
  },
  {
   "cell_type": "code",
   "execution_count": 4,
   "metadata": {},
   "outputs": [
    {
     "name": "stdout",
     "output_type": "stream",
     "text": [
      "0    1\n",
      "1    2\n",
      "2    3\n",
      "3    4\n",
      "4    5\n",
      "dtype: int64\n"
     ]
    }
   ],
   "source": [
    "# 1-Python program to create and display a one-dimensional array-like object containing\n",
    "#  an array of data using Pandas module.\n",
    "\"\"\"\n",
    "Description:\n",
    "    Function is Used create and display a one-dimensional array-like object containing\n",
    "    an array of data using Pandas module\n",
    "Parameter:\n",
    "    Sample Array\n",
    "Return:\n",
    "    None\n",
    "\"\"\"\n",
    "sample_array = pd.Series([1,2,3,4,5])  #This method computes the dot product between the Series and another one, or the Series and each columns of a DataFrame,\n",
    "                                        # or the Series and each columns of an array\n",
    "print(sample_array)"
   ]
  },
  {
   "cell_type": "code",
   "execution_count": 5,
   "metadata": {},
   "outputs": [
    {
     "name": "stdout",
     "output_type": "stream",
     "text": [
      "0    1\n",
      "1    2\n",
      "2    3\n",
      "3    4\n",
      "4    5\n",
      "dtype: int64\n",
      "<class 'pandas.core.series.Series'>\n",
      "[1, 2, 3, 4, 5]\n",
      "<class 'list'>\n"
     ]
    }
   ],
   "source": [
    "# 2-Python program to convert a Panda module Series to Python list and it's type.\n",
    "\"\"\"\n",
    "Description:\n",
    "    Function is Used to convert a Panda module Series to Python list and it's type.\n",
    "Parameter:\n",
    "    Sample List\n",
    "Return:\n",
    "    None\n",
    "\"\"\"\n",
    "sample_array = pd.Series([1,2,3,4,5])\n",
    "print(sample_array)\n",
    "print(type(sample_array))\n",
    "list = sample_array.tolist()        #- used to convert the data elements of an array into a list.\n",
    "print(list)\n",
    "print(type(list))"
   ]
  },
  {
   "cell_type": "code",
   "execution_count": 6,
   "metadata": {},
   "outputs": [
    {
     "name": "stdout",
     "output_type": "stream",
     "text": [
      "sum \n",
      " 0     7\n",
      "1     9\n",
      "2    11\n",
      "3    13\n",
      "4    15\n",
      "dtype: int64\n",
      "sub \n",
      " 0   -5\n",
      "1   -5\n",
      "2   -5\n",
      "3   -5\n",
      "4   -5\n",
      "dtype: int64\n",
      "mul \n",
      " 0     6\n",
      "1    14\n",
      "2    24\n",
      "3    36\n",
      "4    50\n",
      "dtype: int64\n",
      "div \n",
      " 0    0.166667\n",
      "1    0.285714\n",
      "2    0.375000\n",
      "3    0.444444\n",
      "4    0.500000\n",
      "dtype: float64\n"
     ]
    }
   ],
   "source": [
    "# 3-Python program to add, subtract, multiple and divide two Pandas Series\n",
    "\"\"\"\n",
    "Description:\n",
    "    Function is Used to add, subtract, multiple and divide two Pandas Series.\n",
    "Parameter:\n",
    "    Sample Series\n",
    "Return:\n",
    "    None\n",
    "\"\"\"\n",
    "seriesOne = pd.Series([1,2,3,4,5])\n",
    "seriesTwo = pd.Series([6,7,8,9,10])\n",
    "print(\"sum \\n\", seriesOne + seriesTwo)\n",
    "print(\"sub \\n\", seriesOne - seriesTwo)\n",
    "print(\"mul \\n\", seriesOne * seriesTwo)\n",
    "print(\"div \\n\", seriesOne / seriesTwo)"
   ]
  },
  {
   "cell_type": "code",
   "execution_count": 7,
   "metadata": {},
   "outputs": [
    {
     "name": "stdout",
     "output_type": "stream",
     "text": [
      "[  0   1   8  27  64 125 216]\n"
     ]
    }
   ],
   "source": [
    "# 4-Python program to get the powers of an array values element-wise.\n",
    "\"\"\"\n",
    "Description:\n",
    "    Function is Used to get the powers of an array values element-wise.\n",
    "Parameter:\n",
    "    Sample Series\n",
    "Return:\n",
    "    None\n",
    "\"\"\"\n",
    "my_array = np.arange(7)         #-Return evenly spaced values within a given interval.\n",
    "print(np.power(my_array,3))     #-First array elements raised to powers from second array, element-wise."
   ]
  },
  {
   "cell_type": "code",
   "execution_count": 8,
   "metadata": {},
   "outputs": [
    {
     "name": "stdout",
     "output_type": "stream",
     "text": [
      "Here is the Data Frame \n",
      "         name  score  attempts qualify\n",
      "a  Anastasia   12.5         1     yes\n",
      "b       Dima    9.0         3      no\n",
      "c  Katherine   16.5         2     yes\n",
      "d      James    NaN         3      no\n",
      "e      Emily    9.0         2      no\n",
      "f    Michael   20.0         3     yes\n",
      "g    Matthew   14.5         1     yes\n",
      "h      Laura    NaN         1      no\n",
      "i      Kevin    8.0         2      no\n",
      "j      Jonas   19.0         1     yes\n"
     ]
    }
   ],
   "source": [
    "# 5-program to create and display a DataFrame from a specified dictionary data\n",
    "#  which has the index labels\n",
    "\"\"\"\n",
    "Description:\n",
    "    Function is Used to create and display a DataFrame from a specified dictionary data\n",
    "    which has the index labels\n",
    "Parameter:\n",
    "    Sample Series\n",
    "Return:\n",
    "    None\n",
    "\"\"\"\n",
    "exam_data = {'name': ['Anastasia', 'Dima', 'Katherine', 'James', 'Emily', 'Michael',\n",
    "'Matthew', 'Laura', 'Kevin', 'Jonas'],\n",
    "'score': [12.5, 9, 16.5, np.nan, 9, 20, 14.5, np.nan, 8, 19],\n",
    "'attempts': [1, 3, 2, 3, 2, 3, 1, 1, 2, 1],\n",
    "'qualify': ['yes', 'no', 'yes', 'no', 'no', 'yes', 'yes', 'no', 'no', 'yes']}\n",
    "labels = ['a', 'b', 'c', 'd', 'e', 'f', 'g', 'h', 'i', 'j']\n",
    "\n",
    "Data_Frame = pd.DataFrame(exam_data,index=labels) #-Two-dimensional, size-mutable, potentially heterogeneous tabular data.\n",
    "print(\"Here is the Data Frame \\n\", Data_Frame)"
   ]
  },
  {
   "cell_type": "code",
   "execution_count": 9,
   "metadata": {},
   "outputs": [
    {
     "name": "stdout",
     "output_type": "stream",
     "text": [
      "<class 'pandas.core.frame.DataFrame'>\n",
      "Index: 10 entries, a to j\n",
      "Data columns (total 4 columns):\n",
      " #   Column    Non-Null Count  Dtype  \n",
      "---  ------    --------------  -----  \n",
      " 0   name      10 non-null     object \n",
      " 1   score     8 non-null      float64\n",
      " 2   attempts  10 non-null     int64  \n",
      " 3   qualify   10 non-null     object \n",
      "dtypes: float64(1), int64(1), object(2)\n",
      "memory usage: 400.0+ bytes\n"
     ]
    }
   ],
   "source": [
    "# 6-program to display a summary of the basic information about a specified Data Frame and its data.\n",
    "\"\"\"\n",
    "Description:\n",
    "    Function is Used to display a summary of the basic information about a specified Data Frame and its data\n",
    "Parameter:\n",
    "    Sample Series\n",
    "Return:\n",
    "    None\n",
    "\"\"\"\n",
    "Data_Frame = pd.DataFrame(exam_data,index=labels)\n",
    "Data_Frame.info()           #-Print a concise summary of a DataFrame."
   ]
  },
  {
   "cell_type": "code",
   "execution_count": 10,
   "metadata": {},
   "outputs": [
    {
     "name": "stdout",
     "output_type": "stream",
     "text": [
      "Required Data Frame is: \n",
      "         name  score  attempts qualify\n",
      "a  Anastasia   12.5         1     yes\n",
      "b       Dima    9.0         3      no\n",
      "c  Katherine   16.5         2     yes\n"
     ]
    }
   ],
   "source": [
    "# 7-Python program to get the first 3 rows of a given DataFrame. \n",
    "# Sample Python dictionary data and list labels:\n",
    "\"\"\"\n",
    "Description:\n",
    "    Function is Used to to get the first 3 rows of a given DataFrame. \n",
    "    Sample Python dictionary data and list labels:\n",
    "Parameter:\n",
    "    Sample Series\n",
    "Return:\n",
    "    None\n",
    "\"\"\"\n",
    "result = Data_Frame.head(3)     #-Return the first n rows\n",
    "print(\"Required Data Frame is: \\n\", result)"
   ]
  },
  {
   "cell_type": "code",
   "execution_count": 11,
   "metadata": {},
   "outputs": [
    {
     "name": "stdout",
     "output_type": "stream",
     "text": [
      "Required Data Frame is: \n",
      "          name  score\n",
      "a  Anastasia   12.5\n",
      "b       Dima    9.0\n",
      "c  Katherine   16.5\n",
      "d      James    NaN\n",
      "e      Emily    9.0\n",
      "f    Michael   20.0\n",
      "g    Matthew   14.5\n",
      "h      Laura    NaN\n",
      "i      Kevin    8.0\n",
      "j      Jonas   19.0\n"
     ]
    }
   ],
   "source": [
    "# 8-Python program to select the 'name' and 'score' columns from the following DataFrame\n",
    "\"\"\"\n",
    "Description:\n",
    "    Function is Used to select the 'name' and 'score' columns from the following DataFrame.\n",
    "Parameter:\n",
    "    Sample Series\n",
    "Return:\n",
    "    None\n",
    "\"\"\"\n",
    "result = Data_Frame[['name','score']]\n",
    "print(\"Required Data Frame is: \\n \", result)"
   ]
  },
  {
   "cell_type": "code",
   "execution_count": 12,
   "metadata": {},
   "outputs": [
    {
     "name": "stdout",
     "output_type": "stream",
     "text": [
      "Required Data Frame is:\n",
      "        name  score\n",
      "b     Dima    9.0\n",
      "d    James    NaN\n",
      "f  Michael   20.0\n",
      "g  Matthew   14.5\n"
     ]
    }
   ],
   "source": [
    "# 9-Python program to select the specified columns and rows from a given data frame.\n",
    "\"\"\"\n",
    "Description:\n",
    "    Function is Used to select the specified columns and rows from a given data frame.\n",
    "Parameter:\n",
    "    Sample Series\n",
    "Return:\n",
    "    None\n",
    "\"\"\"\n",
    "result = Data_Frame.iloc[[1,3,5,6]][['name','score']]  #-Purely integer-location based indexing for selection by position.\n",
    "print(\"Required Data Frame is:\\n \", result)"
   ]
  },
  {
   "cell_type": "code",
   "execution_count": 13,
   "metadata": {},
   "outputs": [
    {
     "name": "stdout",
     "output_type": "stream",
     "text": [
      "Required Data Frame is:\n",
      "        name  score  attempts qualify\n",
      "b     Dima    9.0         3      no\n",
      "d    James    NaN         3      no\n",
      "f  Michael   20.0         3     yes\n"
     ]
    }
   ],
   "source": [
    "# 10-Python program to select the rows where the number of attempts\n",
    "#  in the examination is greater than 2\n",
    "\"\"\"\n",
    "Description:\n",
    "    Function is Used to select the rows where the number of attempts\n",
    "    in the examination is greater than 2\n",
    "Parameter:\n",
    "    Sample Series\n",
    "Return:\n",
    "    None\n",
    "\"\"\"\n",
    "attempts = Data_Frame['attempts']>2\n",
    "result = Data_Frame[attempts]\n",
    "print(\"Required Data Frame is:\\n \", result)"
   ]
  },
  {
   "cell_type": "code",
   "execution_count": 14,
   "metadata": {},
   "outputs": [
    {
     "name": "stdout",
     "output_type": "stream",
     "text": [
      "number of columns  4\n",
      "number of rows  10\n"
     ]
    }
   ],
   "source": [
    "# 11-Python program to count the number of rows and columns of a DataFrame. Sample data\n",
    "\"\"\"\n",
    "Description:\n",
    "    Function is Used to count the number of rows and columns of a DataFrame. Sample data\n",
    "Parameter:\n",
    "    Sample Series\n",
    "Return:\n",
    "    None\n",
    "\"\"\"    \n",
    "print(\"number of columns \" ,Data_Frame.columns.__len__()) #Return the length of index\n",
    "print(\"number of rows \" ,Data_Frame.index.__len__())"
   ]
  },
  {
   "cell_type": "code",
   "execution_count": 15,
   "metadata": {},
   "outputs": [
    {
     "name": "stdout",
     "output_type": "stream",
     "text": [
      "Required Data Frame is:\n",
      "      name  score  attempts qualify\n",
      "d  James    NaN         3      no\n",
      "h  Laura    NaN         1      no\n"
     ]
    }
   ],
   "source": [
    "# 12-Python program to select the rows where the score is missing\n",
    "\"\"\"\n",
    "Description:\n",
    "    Function is Used to select the rows where the score is missing\n",
    "Parameter:\n",
    "    Sample Series\n",
    "Return:\n",
    "    None\n",
    "\"\"\"\n",
    "result = Data_Frame[Data_Frame['score'].isnull()] #-this function return dataframe of Boolean values which are True for NaN values.\n",
    "print(\"Required Data Frame is:\\n \", result)"
   ]
  },
  {
   "cell_type": "code",
   "execution_count": 16,
   "metadata": {},
   "outputs": [
    {
     "name": "stdout",
     "output_type": "stream",
     "text": [
      "Required Data Frame is: \n",
      "      name  score  attempts qualify\n",
      "j  Jonas   19.0         1     yes\n"
     ]
    }
   ],
   "source": [
    "# 13-Python program to select the rows where number of attempts in the examination is less\n",
    "#  than 2 and score greater than 15\n",
    "\"\"\"\n",
    "Description:\n",
    "    Function is Used to select the rows where number of attempts in the examination is less\n",
    "    than 2 and score greater than 15\n",
    "Parameter:\n",
    "    Sample Series\n",
    "Return:\n",
    "    None\n",
    "\"\"\"\n",
    "result = Data_Frame[(Data_Frame['attempts']<2) & (Data_Frame['score']>15)]\n",
    "print(\"Required Data Frame is: \\n \", result)"
   ]
  },
  {
   "cell_type": "code",
   "execution_count": 17,
   "metadata": {},
   "outputs": [
    {
     "name": "stdout",
     "output_type": "stream",
     "text": [
      "Required Data Frame is:\n",
      "          name  score  attempts qualify\n",
      "a  Anastasia   12.5         1     yes\n",
      "b       Dima    9.0         3      no\n",
      "c  Katherine   16.5         2     yes\n",
      "d      James   11.5         3      no\n",
      "e      Emily    9.0         2      no\n",
      "f    Michael   20.0         3     yes\n",
      "g    Matthew   14.5         1     yes\n",
      "h      Laura    NaN         1      no\n",
      "i      Kevin    8.0         2      no\n",
      "j      Jonas   19.0         1     yes\n"
     ]
    }
   ],
   "source": [
    "# 14-Python program to change the score in row 'd' to 11.5\n",
    "\"\"\"\n",
    "Description:\n",
    "    Function is Used to change the score in row 'd' to 11.5\n",
    "Parameter:\n",
    "    Sample Series\n",
    "Return:\n",
    "    None\n",
    "\"\"\"\n",
    "Data_Frame.loc['d','score'] = 11.5  #-Access a group of rows and columns by label(s) or a boolean array.\n",
    "print(\"Required Data Frame is:\\n \", Data_Frame)"
   ]
  },
  {
   "cell_type": "code",
   "execution_count": 18,
   "metadata": {},
   "outputs": [
    {
     "data": {
      "text/plain": [
       "19"
      ]
     },
     "execution_count": 18,
     "metadata": {},
     "output_type": "execute_result"
    }
   ],
   "source": [
    "# 15-Python program to calculate the sum of the examination attempts by the students\n",
    "\"\"\"\n",
    "Description:\n",
    "    Function is Used to calculate the sum of the examination attempts by the students\n",
    "Parameter:\n",
    "    Sample Series\n",
    "Return:\n",
    "    None\n",
    "\"\"\"\n",
    "sum(Data_Frame['attempts'])"
   ]
  },
  {
   "cell_type": "code",
   "execution_count": 19,
   "metadata": {},
   "outputs": [
    {
     "data": {
      "text/plain": [
       "13.333333333333334"
      ]
     },
     "execution_count": 19,
     "metadata": {},
     "output_type": "execute_result"
    }
   ],
   "source": [
    "# 16-Program to calculate the mean score for each different student in DataFrame\n",
    "\"\"\"\n",
    "Description:\n",
    "    Function is Used to calculate the mean score for each different student in DataFrame\n",
    "Parameter:\n",
    "    Sample Series\n",
    "Return:\n",
    "    None\n",
    "\"\"\"\n",
    "Data_Frame['score'].mean() #-Return the mean of the values over the requested axis."
   ]
  },
  {
   "cell_type": "code",
   "execution_count": 20,
   "metadata": {},
   "outputs": [
    {
     "name": "stdout",
     "output_type": "stream",
     "text": [
      "appended : \n",
      "         name  score  attempts qualify\n",
      "a  Anastasia   12.5         1     yes\n",
      "b       Dima    9.0         3      no\n",
      "c  Katherine   16.5         2     yes\n",
      "d      James   11.5         3      no\n",
      "e      Emily    9.0         2      no\n",
      "f    Michael   20.0         3     yes\n",
      "g    Matthew   14.5         1     yes\n",
      "h      Laura    NaN         1      no\n",
      "i      Kevin    8.0         2      no\n",
      "j      Jonas   19.0         1     yes\n",
      "k     Suresh   15.5         1     yes\n",
      "original : \n",
      "         name  score  attempts qualify\n",
      "a  Anastasia   12.5         1     yes\n",
      "b       Dima    9.0         3      no\n",
      "c  Katherine   16.5         2     yes\n",
      "d      James   11.5         3      no\n",
      "e      Emily    9.0         2      no\n",
      "f    Michael   20.0         3     yes\n",
      "g    Matthew   14.5         1     yes\n",
      "h      Laura    NaN         1      no\n",
      "i      Kevin    8.0         2      no\n",
      "j      Jonas   19.0         1     yes\n"
     ]
    }
   ],
   "source": [
    "# 17-Program to append a new row 'k' to data frame with given values for each column\n",
    "\"\"\"\n",
    "Description:\n",
    "    Function is Used to append a new row 'k' to data frame with given values for each column\n",
    "Parameter:\n",
    "    Sample Series\n",
    "Return:\n",
    "    None\n",
    "\"\"\"\n",
    "new_row = {'name' : 'Suresh', 'score': 15.5, 'attempts': 1, 'qualify': \"yes\"}\n",
    "Data_Frame.loc['k'] = new_row\n",
    "print('appended : \\n',Data_Frame)\n",
    "Data_Frame = Data_Frame.drop('k')\n",
    "print('original : \\n',Data_Frame)"
   ]
  },
  {
   "cell_type": "code",
   "execution_count": 21,
   "metadata": {},
   "outputs": [
    {
     "data": {
      "text/html": [
       "<div>\n",
       "<style scoped>\n",
       "    .dataframe tbody tr th:only-of-type {\n",
       "        vertical-align: middle;\n",
       "    }\n",
       "\n",
       "    .dataframe tbody tr th {\n",
       "        vertical-align: top;\n",
       "    }\n",
       "\n",
       "    .dataframe thead th {\n",
       "        text-align: right;\n",
       "    }\n",
       "</style>\n",
       "<table border=\"1\" class=\"dataframe\">\n",
       "  <thead>\n",
       "    <tr style=\"text-align: right;\">\n",
       "      <th></th>\n",
       "      <th>name</th>\n",
       "      <th>score</th>\n",
       "      <th>attempts</th>\n",
       "      <th>qualify</th>\n",
       "    </tr>\n",
       "  </thead>\n",
       "  <tbody>\n",
       "    <tr>\n",
       "      <th>f</th>\n",
       "      <td>Michael</td>\n",
       "      <td>20.0</td>\n",
       "      <td>3</td>\n",
       "      <td>yes</td>\n",
       "    </tr>\n",
       "    <tr>\n",
       "      <th>j</th>\n",
       "      <td>Jonas</td>\n",
       "      <td>19.0</td>\n",
       "      <td>1</td>\n",
       "      <td>yes</td>\n",
       "    </tr>\n",
       "    <tr>\n",
       "      <th>c</th>\n",
       "      <td>Katherine</td>\n",
       "      <td>16.5</td>\n",
       "      <td>2</td>\n",
       "      <td>yes</td>\n",
       "    </tr>\n",
       "    <tr>\n",
       "      <th>g</th>\n",
       "      <td>Matthew</td>\n",
       "      <td>14.5</td>\n",
       "      <td>1</td>\n",
       "      <td>yes</td>\n",
       "    </tr>\n",
       "    <tr>\n",
       "      <th>a</th>\n",
       "      <td>Anastasia</td>\n",
       "      <td>12.5</td>\n",
       "      <td>1</td>\n",
       "      <td>yes</td>\n",
       "    </tr>\n",
       "    <tr>\n",
       "      <th>d</th>\n",
       "      <td>James</td>\n",
       "      <td>11.5</td>\n",
       "      <td>3</td>\n",
       "      <td>no</td>\n",
       "    </tr>\n",
       "    <tr>\n",
       "      <th>b</th>\n",
       "      <td>Dima</td>\n",
       "      <td>9.0</td>\n",
       "      <td>3</td>\n",
       "      <td>no</td>\n",
       "    </tr>\n",
       "    <tr>\n",
       "      <th>e</th>\n",
       "      <td>Emily</td>\n",
       "      <td>9.0</td>\n",
       "      <td>2</td>\n",
       "      <td>no</td>\n",
       "    </tr>\n",
       "    <tr>\n",
       "      <th>i</th>\n",
       "      <td>Kevin</td>\n",
       "      <td>8.0</td>\n",
       "      <td>2</td>\n",
       "      <td>no</td>\n",
       "    </tr>\n",
       "    <tr>\n",
       "      <th>h</th>\n",
       "      <td>Laura</td>\n",
       "      <td>NaN</td>\n",
       "      <td>1</td>\n",
       "      <td>no</td>\n",
       "    </tr>\n",
       "  </tbody>\n",
       "</table>\n",
       "</div>"
      ],
      "text/plain": [
       "        name  score  attempts qualify\n",
       "f    Michael   20.0         3     yes\n",
       "j      Jonas   19.0         1     yes\n",
       "c  Katherine   16.5         2     yes\n",
       "g    Matthew   14.5         1     yes\n",
       "a  Anastasia   12.5         1     yes\n",
       "d      James   11.5         3      no\n",
       "b       Dima    9.0         3      no\n",
       "e      Emily    9.0         2      no\n",
       "i      Kevin    8.0         2      no\n",
       "h      Laura    NaN         1      no"
      ]
     },
     "execution_count": 21,
     "metadata": {},
     "output_type": "execute_result"
    }
   ],
   "source": [
    "# 18-program to sort the DataFrame first by 'name' in descending order,\n",
    "# then by 'score' in ascending order.\n",
    "\"\"\"\n",
    "Description:\n",
    "    Function is Used to sort the DataFrame first by 'name' in descending order,\n",
    "    then by 'score' in ascending order.\n",
    "Parameter:\n",
    "    Sample Series\n",
    "Return:\n",
    "    None\n",
    "\"\"\"\n",
    "updated_data = Data_Frame.sort_values(['name'])\n",
    "updated_data = Data_Frame.sort_values(['score'],ascending=False)\n",
    "updated_data"
   ]
  },
  {
   "cell_type": "code",
   "execution_count": 22,
   "metadata": {},
   "outputs": [
    {
     "data": {
      "text/html": [
       "<div>\n",
       "<style scoped>\n",
       "    .dataframe tbody tr th:only-of-type {\n",
       "        vertical-align: middle;\n",
       "    }\n",
       "\n",
       "    .dataframe tbody tr th {\n",
       "        vertical-align: top;\n",
       "    }\n",
       "\n",
       "    .dataframe thead th {\n",
       "        text-align: right;\n",
       "    }\n",
       "</style>\n",
       "<table border=\"1\" class=\"dataframe\">\n",
       "  <thead>\n",
       "    <tr style=\"text-align: right;\">\n",
       "      <th></th>\n",
       "      <th>name</th>\n",
       "      <th>score</th>\n",
       "      <th>attempts</th>\n",
       "      <th>qualify</th>\n",
       "    </tr>\n",
       "  </thead>\n",
       "  <tbody>\n",
       "    <tr>\n",
       "      <th>a</th>\n",
       "      <td>Anastasia</td>\n",
       "      <td>12.5</td>\n",
       "      <td>1</td>\n",
       "      <td>True</td>\n",
       "    </tr>\n",
       "    <tr>\n",
       "      <th>b</th>\n",
       "      <td>Dima</td>\n",
       "      <td>9.0</td>\n",
       "      <td>3</td>\n",
       "      <td>False</td>\n",
       "    </tr>\n",
       "    <tr>\n",
       "      <th>c</th>\n",
       "      <td>Katherine</td>\n",
       "      <td>16.5</td>\n",
       "      <td>2</td>\n",
       "      <td>True</td>\n",
       "    </tr>\n",
       "    <tr>\n",
       "      <th>d</th>\n",
       "      <td>James</td>\n",
       "      <td>11.5</td>\n",
       "      <td>3</td>\n",
       "      <td>False</td>\n",
       "    </tr>\n",
       "    <tr>\n",
       "      <th>e</th>\n",
       "      <td>Emily</td>\n",
       "      <td>9.0</td>\n",
       "      <td>2</td>\n",
       "      <td>False</td>\n",
       "    </tr>\n",
       "    <tr>\n",
       "      <th>f</th>\n",
       "      <td>Michael</td>\n",
       "      <td>20.0</td>\n",
       "      <td>3</td>\n",
       "      <td>True</td>\n",
       "    </tr>\n",
       "    <tr>\n",
       "      <th>g</th>\n",
       "      <td>Matthew</td>\n",
       "      <td>14.5</td>\n",
       "      <td>1</td>\n",
       "      <td>True</td>\n",
       "    </tr>\n",
       "    <tr>\n",
       "      <th>h</th>\n",
       "      <td>Laura</td>\n",
       "      <td>NaN</td>\n",
       "      <td>1</td>\n",
       "      <td>False</td>\n",
       "    </tr>\n",
       "    <tr>\n",
       "      <th>i</th>\n",
       "      <td>Kevin</td>\n",
       "      <td>8.0</td>\n",
       "      <td>2</td>\n",
       "      <td>False</td>\n",
       "    </tr>\n",
       "    <tr>\n",
       "      <th>j</th>\n",
       "      <td>Jonas</td>\n",
       "      <td>19.0</td>\n",
       "      <td>1</td>\n",
       "      <td>True</td>\n",
       "    </tr>\n",
       "  </tbody>\n",
       "</table>\n",
       "</div>"
      ],
      "text/plain": [
       "        name  score  attempts  qualify\n",
       "a  Anastasia   12.5         1     True\n",
       "b       Dima    9.0         3    False\n",
       "c  Katherine   16.5         2     True\n",
       "d      James   11.5         3    False\n",
       "e      Emily    9.0         2    False\n",
       "f    Michael   20.0         3     True\n",
       "g    Matthew   14.5         1     True\n",
       "h      Laura    NaN         1    False\n",
       "i      Kevin    8.0         2    False\n",
       "j      Jonas   19.0         1     True"
      ]
     },
     "execution_count": 22,
     "metadata": {},
     "output_type": "execute_result"
    }
   ],
   "source": [
    "# 19-program to replace the 'qualify' column contains the values 'yes' and 'no' with True and False\n",
    "\"\"\"\n",
    "Description:\n",
    "    Function is Used to sort the DataFrame first by 'name' in descending order,\n",
    "    then by 'score' in ascending order.\n",
    "Parameter:\n",
    "    Sample Series\n",
    "Return:\n",
    "    None\n",
    "\"\"\"\n",
    "new_frame = Data_Frame.copy() #-Make a copy of this object's indices and data.\n",
    "new_frame['qualify'] = Data_Frame['qualify'].map({'yes':True,'no':False}) #-Map values of Series according to input correspondence.\n",
    "new_frame\n"
   ]
  },
  {
   "cell_type": "code",
   "execution_count": 23,
   "metadata": {},
   "outputs": [
    {
     "data": {
      "text/html": [
       "<div>\n",
       "<style scoped>\n",
       "    .dataframe tbody tr th:only-of-type {\n",
       "        vertical-align: middle;\n",
       "    }\n",
       "\n",
       "    .dataframe tbody tr th {\n",
       "        vertical-align: top;\n",
       "    }\n",
       "\n",
       "    .dataframe thead th {\n",
       "        text-align: right;\n",
       "    }\n",
       "</style>\n",
       "<table border=\"1\" class=\"dataframe\">\n",
       "  <thead>\n",
       "    <tr style=\"text-align: right;\">\n",
       "      <th></th>\n",
       "      <th>name</th>\n",
       "      <th>score</th>\n",
       "      <th>qualify</th>\n",
       "    </tr>\n",
       "  </thead>\n",
       "  <tbody>\n",
       "    <tr>\n",
       "      <th>a</th>\n",
       "      <td>Anastasia</td>\n",
       "      <td>12.5</td>\n",
       "      <td>yes</td>\n",
       "    </tr>\n",
       "    <tr>\n",
       "      <th>b</th>\n",
       "      <td>Dima</td>\n",
       "      <td>9.0</td>\n",
       "      <td>no</td>\n",
       "    </tr>\n",
       "    <tr>\n",
       "      <th>c</th>\n",
       "      <td>Katherine</td>\n",
       "      <td>16.5</td>\n",
       "      <td>yes</td>\n",
       "    </tr>\n",
       "    <tr>\n",
       "      <th>d</th>\n",
       "      <td>James</td>\n",
       "      <td>11.5</td>\n",
       "      <td>no</td>\n",
       "    </tr>\n",
       "    <tr>\n",
       "      <th>e</th>\n",
       "      <td>Emily</td>\n",
       "      <td>9.0</td>\n",
       "      <td>no</td>\n",
       "    </tr>\n",
       "    <tr>\n",
       "      <th>f</th>\n",
       "      <td>Michael</td>\n",
       "      <td>20.0</td>\n",
       "      <td>yes</td>\n",
       "    </tr>\n",
       "    <tr>\n",
       "      <th>g</th>\n",
       "      <td>Matthew</td>\n",
       "      <td>14.5</td>\n",
       "      <td>yes</td>\n",
       "    </tr>\n",
       "    <tr>\n",
       "      <th>h</th>\n",
       "      <td>Laura</td>\n",
       "      <td>NaN</td>\n",
       "      <td>no</td>\n",
       "    </tr>\n",
       "    <tr>\n",
       "      <th>i</th>\n",
       "      <td>Kevin</td>\n",
       "      <td>8.0</td>\n",
       "      <td>no</td>\n",
       "    </tr>\n",
       "    <tr>\n",
       "      <th>j</th>\n",
       "      <td>Jonas</td>\n",
       "      <td>19.0</td>\n",
       "      <td>yes</td>\n",
       "    </tr>\n",
       "  </tbody>\n",
       "</table>\n",
       "</div>"
      ],
      "text/plain": [
       "        name  score qualify\n",
       "a  Anastasia   12.5     yes\n",
       "b       Dima    9.0      no\n",
       "c  Katherine   16.5     yes\n",
       "d      James   11.5      no\n",
       "e      Emily    9.0      no\n",
       "f    Michael   20.0     yes\n",
       "g    Matthew   14.5     yes\n",
       "h      Laura    NaN      no\n",
       "i      Kevin    8.0      no\n",
       "j      Jonas   19.0     yes"
      ]
     },
     "execution_count": 23,
     "metadata": {},
     "output_type": "execute_result"
    }
   ],
   "source": [
    "# 20-program to delete the 'attempts' column from the DataFrame\n",
    "\"\"\"\n",
    "Description:\n",
    "    Function is Used to delete the 'attempts' column from the DataFrame.\n",
    "Parameter:\n",
    "    Sample Series\n",
    "Return:\n",
    "    None\n",
    "\"\"\"\n",
    "Data_Frame.drop('attempts',axis=1) #-Drop specified labels from rows or columns."
   ]
  },
  {
   "cell_type": "code",
   "execution_count": 24,
   "metadata": {},
   "outputs": [
    {
     "data": {
      "text/html": [
       "<div>\n",
       "<style scoped>\n",
       "    .dataframe tbody tr th:only-of-type {\n",
       "        vertical-align: middle;\n",
       "    }\n",
       "\n",
       "    .dataframe tbody tr th {\n",
       "        vertical-align: top;\n",
       "    }\n",
       "\n",
       "    .dataframe thead th {\n",
       "        text-align: right;\n",
       "    }\n",
       "</style>\n",
       "<table border=\"1\" class=\"dataframe\">\n",
       "  <thead>\n",
       "    <tr style=\"text-align: right;\">\n",
       "      <th></th>\n",
       "      <th>name</th>\n",
       "      <th>score</th>\n",
       "      <th>attempts</th>\n",
       "      <th>qualify</th>\n",
       "      <th>Roll no.</th>\n",
       "    </tr>\n",
       "  </thead>\n",
       "  <tbody>\n",
       "    <tr>\n",
       "      <th>a</th>\n",
       "      <td>Anastasia</td>\n",
       "      <td>12.5</td>\n",
       "      <td>1</td>\n",
       "      <td>yes</td>\n",
       "      <td>1</td>\n",
       "    </tr>\n",
       "    <tr>\n",
       "      <th>b</th>\n",
       "      <td>Dima</td>\n",
       "      <td>9.0</td>\n",
       "      <td>3</td>\n",
       "      <td>no</td>\n",
       "      <td>2</td>\n",
       "    </tr>\n",
       "    <tr>\n",
       "      <th>c</th>\n",
       "      <td>Katherine</td>\n",
       "      <td>16.5</td>\n",
       "      <td>2</td>\n",
       "      <td>yes</td>\n",
       "      <td>3</td>\n",
       "    </tr>\n",
       "    <tr>\n",
       "      <th>d</th>\n",
       "      <td>James</td>\n",
       "      <td>11.5</td>\n",
       "      <td>3</td>\n",
       "      <td>no</td>\n",
       "      <td>4</td>\n",
       "    </tr>\n",
       "    <tr>\n",
       "      <th>e</th>\n",
       "      <td>Emily</td>\n",
       "      <td>9.0</td>\n",
       "      <td>2</td>\n",
       "      <td>no</td>\n",
       "      <td>5</td>\n",
       "    </tr>\n",
       "    <tr>\n",
       "      <th>f</th>\n",
       "      <td>Michael</td>\n",
       "      <td>20.0</td>\n",
       "      <td>3</td>\n",
       "      <td>yes</td>\n",
       "      <td>6</td>\n",
       "    </tr>\n",
       "    <tr>\n",
       "      <th>g</th>\n",
       "      <td>Matthew</td>\n",
       "      <td>14.5</td>\n",
       "      <td>1</td>\n",
       "      <td>yes</td>\n",
       "      <td>7</td>\n",
       "    </tr>\n",
       "    <tr>\n",
       "      <th>h</th>\n",
       "      <td>Laura</td>\n",
       "      <td>NaN</td>\n",
       "      <td>1</td>\n",
       "      <td>no</td>\n",
       "      <td>8</td>\n",
       "    </tr>\n",
       "    <tr>\n",
       "      <th>i</th>\n",
       "      <td>Kevin</td>\n",
       "      <td>8.0</td>\n",
       "      <td>2</td>\n",
       "      <td>no</td>\n",
       "      <td>9</td>\n",
       "    </tr>\n",
       "    <tr>\n",
       "      <th>j</th>\n",
       "      <td>Jonas</td>\n",
       "      <td>19.0</td>\n",
       "      <td>1</td>\n",
       "      <td>yes</td>\n",
       "      <td>10</td>\n",
       "    </tr>\n",
       "  </tbody>\n",
       "</table>\n",
       "</div>"
      ],
      "text/plain": [
       "        name  score  attempts qualify  Roll no.\n",
       "a  Anastasia   12.5         1     yes         1\n",
       "b       Dima    9.0         3      no         2\n",
       "c  Katherine   16.5         2     yes         3\n",
       "d      James   11.5         3      no         4\n",
       "e      Emily    9.0         2      no         5\n",
       "f    Michael   20.0         3     yes         6\n",
       "g    Matthew   14.5         1     yes         7\n",
       "h      Laura    NaN         1      no         8\n",
       "i      Kevin    8.0         2      no         9\n",
       "j      Jonas   19.0         1     yes        10"
      ]
     },
     "execution_count": 24,
     "metadata": {},
     "output_type": "execute_result"
    }
   ],
   "source": [
    "# 21-Program to insert a new column in existing DataFrame\n",
    "\"\"\"\n",
    "Description:\n",
    "    Function is Used to insert a new column in existing DataFrame.\n",
    "Parameter:\n",
    "    Sample Series\n",
    "Return:\n",
    "    None\n",
    "\"\"\"\n",
    "roll_no = [1,2,3,4,5,6,7,8,9,10]\n",
    "Data_Frame['Roll no.'] = roll_no\n",
    "Data_Frame"
   ]
  },
  {
   "cell_type": "code",
   "execution_count": 25,
   "metadata": {},
   "outputs": [
    {
     "name": "stdout",
     "output_type": "stream",
     "text": [
      "Anastasia\n",
      "Dima\n",
      "Katherine\n",
      "James\n",
      "Emily\n",
      "Michael\n",
      "Matthew\n",
      "Laura\n",
      "Kevin\n",
      "Jonas\n"
     ]
    }
   ],
   "source": [
    "# 22- Python program to iterate over rows in a DataFrame\n",
    "\"\"\"\n",
    "Description:\n",
    "    Function is Used to iterate over rows in a DataFrame.\n",
    "Parameter:\n",
    "    Sample Series\n",
    "Return:\n",
    "    None\n",
    "\"\"\"\n",
    "for i in Data_Frame.index:\n",
    "    print(Data_Frame['name'][i])"
   ]
  },
  {
   "cell_type": "code",
   "execution_count": 26,
   "metadata": {},
   "outputs": [
    {
     "name": "stdout",
     "output_type": "stream",
     "text": [
      "['name', 'score', 'attempts', 'qualify', 'Roll no.']\n"
     ]
    }
   ],
   "source": [
    "# 23-Python program to get list from DataFrame column headers\n",
    "\"\"\"\n",
    "Description:\n",
    "    Function is Used to get list from DataFrame column headers.\n",
    "Parameter:\n",
    "    Sample Series\n",
    "Return:\n",
    "    None\n",
    "\"\"\"\n",
    "list_column_headers = Data_Frame.columns.tolist()\n",
    "print(list_column_headers)"
   ]
  },
  {
   "cell_type": "code",
   "execution_count": 91,
   "metadata": {},
   "outputs": [
    {
     "name": "stdout",
     "output_type": "stream",
     "text": [
      "[[[2 2 4]\n",
      "  [3 2 7]]]\n"
     ]
    }
   ],
   "source": [
    "arr = np.array([[[2,2,4],[3,2,7]], [[2,2,3],[3,6,7]]])\n",
    "print(arr[0:1])"
   ]
  },
  {
   "cell_type": "code",
   "execution_count": 96,
   "metadata": {},
   "outputs": [
    {
     "data": {
      "text/plain": [
       "array([1, 2, 3, 4, 5])"
      ]
     },
     "execution_count": 96,
     "metadata": {},
     "output_type": "execute_result"
    }
   ],
   "source": [
    "array = np.array([1,2,3,4,5])\n",
    "array"
   ]
  },
  {
   "cell_type": "code",
   "execution_count": 97,
   "metadata": {},
   "outputs": [],
   "source": [
    "array[0] = 6"
   ]
  },
  {
   "cell_type": "code",
   "execution_count": 98,
   "metadata": {},
   "outputs": [
    {
     "data": {
      "text/plain": [
       "array([6, 2, 3, 4, 5])"
      ]
     },
     "execution_count": 98,
     "metadata": {},
     "output_type": "execute_result"
    }
   ],
   "source": [
    "array\n"
   ]
  },
  {
   "cell_type": "code",
   "execution_count": null,
   "metadata": {},
   "outputs": [],
   "source": []
  }
 ],
 "metadata": {
  "interpreter": {
   "hash": "462ae12aa29ce4e70c4abae1bee9521464252c0404e5ec0c0ada131b1d876249"
  },
  "kernelspec": {
   "display_name": "Python 3.10.1 64-bit",
   "language": "python",
   "name": "python3"
  },
  "language_info": {
   "codemirror_mode": {
    "name": "ipython",
    "version": 3
   },
   "file_extension": ".py",
   "mimetype": "text/x-python",
   "name": "python",
   "nbconvert_exporter": "python",
   "pygments_lexer": "ipython3",
   "version": "3.10.1"
  },
  "orig_nbformat": 4
 },
 "nbformat": 4,
 "nbformat_minor": 2
}
