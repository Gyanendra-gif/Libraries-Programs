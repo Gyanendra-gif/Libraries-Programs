{
 "cells": [
  {
   "cell_type": "code",
   "execution_count": 2,
   "metadata": {},
   "outputs": [],
   "source": [
    "import pandas as pd # Importing Python Pandas Library "
   ]
  },
  {
   "cell_type": "code",
   "execution_count": 4,
   "metadata": {},
   "outputs": [],
   "source": [
    "dataframe = pd.read_csv(\"E:/Python Workspace/Libraries-Programs/Seaborn_programs/research-and-development-survey-2020-csv-notes.csv\")"
   ]
  },
  {
   "cell_type": "code",
   "execution_count": 5,
   "metadata": {},
   "outputs": [
    {
     "name": "stdout",
     "output_type": "stream",
     "text": [
      "Here is the Data Frame Format is: \n",
      "                                             Footnotes\n",
      "0                                          Footnotes:\n",
      "1   1. Sector and published industry breakdowns ac...\n",
      "2   2. GDP is based on Stats NZ's GDP current pric...\n",
      "3   3. Sourced from Organisation for Economic Co-o...\n",
      "4   4. Figures for Australia are collected in odd ...\n",
      "5   5. Figures for Switzerland are collected inter...\n",
      "6   6. Results for this category should be treated...\n",
      "7   7. Includes a wide range of ANZSIC industry co...\n",
      "8   8. Some categories or groups may not equal the...\n",
      "9   9. In 2019 the R&D Survey was conducted only f...\n",
      "10  10. Respondents are asked to allocate to each ...\n",
      "11  11. Includes 'defence' and 'other' research pu...\n",
      "12  12. Includes New Zealand local government agen...\n",
      "13  13. Basic research is carried out to advance k...\n",
      "14  14. Applied research is investigation undertak...\n",
      "15  15. Experimental research is systematic work u...\n",
      "16  16. Pure basic research is research to pursue ...\n",
      "17  17. Targeted basic research is research to pro...\n",
      "18  18. Businesses were asked to indicate one main...\n",
      "19  19. Based on Rolling Mean employment. See Data...\n",
      "20  20. Dollar figures exclude GST and are rounded...\n",
      "21  21. Underlying counts of businesses are random...\n",
      "22  22. Underlying counts of employees are rounded...\n",
      "23                                             Notes:\n",
      "24  Due to small changes in population and sample ...\n",
      "25  Due to rounding, figures may not add to stated...\n",
      "26                                           Symbols:\n",
      "27                            ... Data not collected.\n",
      "28                             .. Data not applicable\n",
      "29                                     C Confidential\n",
      "30                    S Supressed for quality reasons\n"
     ]
    }
   ],
   "source": [
    "print(\"Here is the Data Frame Format is: \\n\", dataframe)"
   ]
  },
  {
   "cell_type": "code",
   "execution_count": null,
   "metadata": {},
   "outputs": [],
   "source": []
  }
 ],
 "metadata": {
  "interpreter": {
   "hash": "462ae12aa29ce4e70c4abae1bee9521464252c0404e5ec0c0ada131b1d876249"
  },
  "kernelspec": {
   "display_name": "Python 3.10.1 64-bit",
   "language": "python",
   "name": "python3"
  },
  "language_info": {
   "codemirror_mode": {
    "name": "ipython",
    "version": 3
   },
   "file_extension": ".py",
   "mimetype": "text/x-python",
   "name": "python",
   "nbconvert_exporter": "python",
   "pygments_lexer": "ipython3",
   "version": "3.10.1"
  },
  "orig_nbformat": 4
 },
 "nbformat": 4,
 "nbformat_minor": 2
}
